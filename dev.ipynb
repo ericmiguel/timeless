{
 "cells": [
  {
   "cell_type": "code",
   "execution_count": 12,
   "metadata": {},
   "outputs": [
    {
     "ename": "ModuleNotFoundError",
     "evalue": "No module named 'timless'",
     "output_type": "error",
     "traceback": [
      "\u001b[0;31m---------------------------------------------------------------------------\u001b[0m",
      "\u001b[0;31mModuleNotFoundError\u001b[0m                       Traceback (most recent call last)",
      "\u001b[0;32m/tmp/ipykernel_215035/1971790973.py\u001b[0m in \u001b[0;36m<module>\u001b[0;34m\u001b[0m\n\u001b[1;32m      1\u001b[0m \u001b[0;32mfrom\u001b[0m \u001b[0mtimeless\u001b[0m \u001b[0;32mimport\u001b[0m \u001b[0mdatetime\u001b[0m\u001b[0;34m\u001b[0m\u001b[0;34m\u001b[0m\u001b[0m\n\u001b[0;32m----> 2\u001b[0;31m \u001b[0;32mfrom\u001b[0m \u001b[0mtimless\u001b[0m \u001b[0;32mimport\u001b[0m \u001b[0mperiod\u001b[0m\u001b[0;34m\u001b[0m\u001b[0;34m\u001b[0m\u001b[0m\n\u001b[0m",
      "\u001b[0;31mModuleNotFoundError\u001b[0m: No module named 'timless'"
     ]
    }
   ],
   "source": [
    "from timeless import datetime\n",
    "from timtimelessless import period"
   ]
  },
  {
   "cell_type": "code",
   "execution_count": 9,
   "metadata": {},
   "outputs": [
    {
     "data": {
      "text/plain": [
       "Datetime(2019, 1, 1, 0, 0, tzinfo=zoneinfo.ZoneInfo(key='UTC'))"
      ]
     },
     "execution_count": 9,
     "metadata": {},
     "output_type": "execute_result"
    }
   ],
   "source": [
    "datetime.datetime(2019, 1, 1)"
   ]
  },
  {
   "cell_type": "code",
   "execution_count": 10,
   "metadata": {},
   "outputs": [
    {
     "data": {
      "text/plain": [
       "Datetime(1900, 12, 1, 0, 0, tzinfo=zoneinfo.ZoneInfo(key='UTC'))"
      ]
     },
     "execution_count": 10,
     "metadata": {},
     "output_type": "execute_result"
    }
   ],
   "source": [
    "start = datetime.datetime(1900, 1, 1, zone=\"UTC\")\n",
    "# Datetime(1900, 1, 1, 0, 0, tzinfo=zoneinfo.ZoneInfo(key='UTC'))\n",
    "\n",
    "end = start.add(years=1)\n",
    "# Datetime(1901, 1, 1, 0, 0, tzinfo=zoneinfo.ZoneInfo(key='UTC'))\n",
    "\n",
    "end.subtract(months=1)\n",
    "# Datetime(1900, 12, 1, 0, 0, tzinfo=zoneinfo.ZoneInfo(key='UTC'))"
   ]
  },
  {
   "cell_type": "code",
   "execution_count": 11,
   "metadata": {},
   "outputs": [
    {
     "data": {
      "text/plain": [
       "True"
      ]
     },
     "execution_count": 11,
     "metadata": {},
     "output_type": "execute_result"
    }
   ],
   "source": [
    "start = datetime.datetime(1900, 1, 1, zone=\"UTC\")\n",
    "\n",
    "start.set(year=2099, month=2, day=26, hour=5, zone=\"America/Sao_Paulo\")\n",
    "# Datetime(2099, 2, 26, 5, 0, tzinfo=zoneinfo.ZoneInfo(key='America/Sao_Paulo'))\n",
    "\n",
    "start.is_future()  # False\n",
    "\n",
    "start.set(year=2099).is_future()  # True"
   ]
  },
  {
   "cell_type": "code",
   "execution_count": 14,
   "metadata": {},
   "outputs": [
    {
     "data": {
      "text/plain": [
       "\" \\n[Datetime(1900, 1, 1, 0, 0, tzinfo=zoneinfo.ZoneInfo(key='UTC')),\\n Datetime(1900, 2, 1, 0, 0, tzinfo=zoneinfo.ZoneInfo(key='UTC')),\\n Datetime(1900, 3, 1, 0, 0, tzinfo=zoneinfo.ZoneInfo(key='UTC'))]\\n\""
      ]
     },
     "execution_count": 14,
     "metadata": {},
     "output_type": "execute_result"
    }
   ],
   "source": [
    "start = datetime(1900, 1, 1, zone=\"UTC\")\n",
    "end = start.add(months=2)\n",
    "\n",
    "list(period(start, end, freq=\"months\"))\n",
    "\"\"\" \n",
    "[Datetime(1900, 1, 1, 0, 0, tzinfo=zoneinfo.ZoneInfo(key='UTC')),\n",
    " Datetime(1900, 2, 1, 0, 0, tzinfo=zoneinfo.ZoneInfo(key='UTC')),\n",
    " Datetime(1900, 3, 1, 0, 0, tzinfo=zoneinfo.ZoneInfo(key='UTC'))]\n",
    "\"\"\""
   ]
  },
  {
   "cell_type": "code",
   "execution_count": 15,
   "metadata": {},
   "outputs": [
    {
     "data": {
      "text/plain": [
       "\"\\n[Datetime(1900, 1, 1, 0, 0, tzinfo=zoneinfo.ZoneInfo(key='UTC')),\\n Datetime(1900, 1, 1, 1, 0, tzinfo=zoneinfo.ZoneInfo(key='UTC')),\\n...\\n Datetime(1900, 1, 1, 23, 0, tzinfo=zoneinfo.ZoneInfo(key='UTC')),\\n Datetime(1900, 1, 2, 0, 0, tzinfo=zoneinfo.ZoneInfo(key='UTC'))]\\n\""
      ]
     },
     "execution_count": 15,
     "metadata": {},
     "output_type": "execute_result"
    }
   ],
   "source": [
    "start = datetime(1900, 1, 1, zone=\"UTC\")\n",
    "end = start.add(days=1)\n",
    "\n",
    "period_1 = period(start, end, freq=\"days\")\n",
    "period_2 = period_1.to(\"hours\")\n",
    "\n",
    "list(period_1)\n",
    "\"\"\" \n",
    "[Datetime(1900, 1, 1, 0, 0, tzinfo=zoneinfo.ZoneInfo(key='UTC')),\n",
    " Datetime(1900, 1, 2, 0, 0, tzinfo=zoneinfo.ZoneInfo(key='UTC'))]\n",
    "\"\"\"\n",
    "\n",
    "list(period_2)\n",
    "\"\"\"\n",
    "[Datetime(1900, 1, 1, 0, 0, tzinfo=zoneinfo.ZoneInfo(key='UTC')),\n",
    " Datetime(1900, 1, 1, 1, 0, tzinfo=zoneinfo.ZoneInfo(key='UTC')),\n",
    "...\n",
    " Datetime(1900, 1, 1, 23, 0, tzinfo=zoneinfo.ZoneInfo(key='UTC')),\n",
    " Datetime(1900, 1, 2, 0, 0, tzinfo=zoneinfo.ZoneInfo(key='UTC'))]\n",
    "\"\"\""
   ]
  },
  {
   "cell_type": "code",
   "execution_count": null,
   "metadata": {},
   "outputs": [],
   "source": [
    "import pandas as pd"
   ]
  },
  {
   "cell_type": "code",
   "execution_count": null,
   "metadata": {},
   "outputs": [],
   "source": [
    "from zoneinfo import ZoneInfo"
   ]
  },
  {
   "cell_type": "code",
   "execution_count": null,
   "metadata": {},
   "outputs": [],
   "source": [
    "teste = pd.Timestamp('2014-01-23 00:00:00', tz=\"America/Sao_Paulo\")"
   ]
  },
  {
   "cell_type": "code",
   "execution_count": null,
   "metadata": {},
   "outputs": [],
   "source": [
    "from timeless.datetime import from_pandas"
   ]
  },
  {
   "cell_type": "code",
   "execution_count": null,
   "metadata": {},
   "outputs": [],
   "source": []
  }
 ],
 "metadata": {
  "interpreter": {
   "hash": "9772caf741dc4cc1b287aaa95bf6af24382aabcb471d1e8d4ce911b2d50d3501"
  },
  "kernelspec": {
   "display_name": "Python 3.9.5 64-bit ('base': conda)",
   "language": "python",
   "name": "python3"
  },
  "language_info": {
   "codemirror_mode": {
    "name": "ipython",
    "version": 3
   },
   "file_extension": ".py",
   "mimetype": "text/x-python",
   "name": "python",
   "nbconvert_exporter": "python",
   "pygments_lexer": "ipython3",
   "version": "3.9.7"
  },
  "orig_nbformat": 4
 },
 "nbformat": 4,
 "nbformat_minor": 2
}
